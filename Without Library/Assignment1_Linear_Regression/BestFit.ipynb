{
 "cells": [
  {
   "cell_type": "code",
   "execution_count": 2,
   "metadata": {},
   "outputs": [
    {
     "data": {
      "image/png": "[encoded data removed]",
      "text/plain": [
       "<Figure size 432x288 with 1 Axes>"
      ]
     },
     "metadata": {},
     "output_type": "display_data"
    }
   ],
   "source": [
    "import pandas as pd\n",
    "import numpy as np\n",
    "import scipy\n",
    "import matplotlib.pyplot as plt\n",
    "# from IPython.display import display, Math, Latex\n",
    "\n",
    "my_data = np.genfromtxt('data.csv', delimiter=',') # read the data\n",
    "X = my_data[:, 0].reshape(-1,1) # -1 tells numpy to figure out the dimension by itself\n",
    "ones = np.ones([X.shape[0], 1]) # create a array containing only ones \n",
    "X = np.concatenate([ones, X],1) # cocatenate the ones to X matrix\n",
    "## 1 array for bias\n",
    "y = my_data[:, 1].reshape(-1,1) # create the y matrix\n",
    "\n",
    "dataset  = pd.read_csv(\"ml_assi1.csv\")\n",
    "plt.scatter( my_data[:, 0] , y)\n",
    "plt.show()\n",
    "\n"
   ]
  },
  {
   "cell_type": "markdown",
   "metadata": {},
   "source": [
    "### Hyperparameters"
   ]
  },
  {
   "cell_type": "code",
   "execution_count": 3,
   "metadata": {},
   "outputs": [],
   "source": [
    "alpha = 0.0001\n",
    "iters = 1000\n",
    "\n",
    "# 1 attribute (X) \n",
    "# 2 initial ramdom values (one bias) m and c | y = mx+c\n",
    "theta = np.array([[1.0, 1.0]])"
   ]
  },
  {
   "cell_type": "markdown",
   "metadata": {},
   "source": [
    "## Cost Function  : Sum of Mean square Error\n",
    "\n",
    "$$ \n",
    "J(\\theta)=\\frac{1}{2m} \\sum_{i=1}^{m}\\left(h_{\\theta}\\left(x^{(i)}\\right)-y^{(i)}\\right)^{2}\n",
    " $$\n"
   ]
  },
  {
   "cell_type": "code",
   "execution_count": 10,
   "metadata": {},
   "outputs": [
    {
     "name": "stdout",
     "output_type": "stream",
     "text": [
      "Cost for (m=1 and c=1) : 1708.125\n"
     ]
    }
   ],
   "source": [
    "def computeCost(X, y, theta):\n",
    "    inner = np.power(((X @ theta.T) - y), 2) # @ means matrix multiplication of arrays. If we want to use * for multiplication we will have to convert all arrays to matrices\n",
    "    return np.sum(inner) / (2 * len(X))\n",
    "\n",
    "print(\"Cost for (m=1 and c=1) :\",computeCost(X, y, theta))"
   ]
  },
  {
   "cell_type": "markdown",
   "metadata": {},
   "source": [
    "## Least Mean Square(LMS) Algorithm \n",
    "\n",
    "### &emsp;&emsp;Gradient Descent\n",
    "\n",
    "\n",
    "$$ \n",
    "\\theta_{j} :=\\theta_{j}-\\alpha \\frac{\\partial}{\\partial \\theta_{j}} J(\\theta)\n",
    " $$\n",
    " \n",
    " ### &emsp;&emsp; Derivative of Cost Function\n",
    " \n",
    " $$ \n",
    "\\begin{aligned} \\frac{\\partial}{\\partial \\theta_{j}} J(\\theta) &=\\frac{\\partial}{\\partial \\theta_{j}} \\frac{1}{2m}\\left(h_{\\theta}(x)-y\\right)^{2} \\\\ &=2 \\cdot \\frac{1}{2m}\\left(h_{\\theta}(x)-y\\right) \\cdot \\frac{\\partial}{\\partial \\theta_{j}}\\left(h_{\\theta}(x)-y\\right) \\\\ &=\\frac{1}{m}\\left(h_{\\theta}(x)-y\\right) \\cdot \\frac{\\partial}{\\partial \\theta_{j}}\\left(\\sum_{i=0}^{n} \\theta_{i} x_{i}-y\\right) \\\\ &=\\frac{1}{m}\\left(h_{\\theta}(x)-y\\right) x_{j} \\end{aligned}\n",
    " $$"
   ]
  },
  {
   "cell_type": "code",
   "execution_count": 11,
   "metadata": {},
   "outputs": [
    {
     "name": "stdout",
     "output_type": "stream",
     "text": [
      "[[1.49628401 5.45209728]] 267.22470244578153\n"
     ]
    }
   ],
   "source": [
    "#Slope : The amount that y increases as x increases some amoun\n",
    "\n",
    "def gradientDescent(X, y, theta, alpha, iters):\n",
    "    for i in range(iters):\n",
    "        theta = theta - (alpha/len(X)) * np.sum((X @ theta.T - y) * X, axis=0)\n",
    "        cost = computeCost(X, y, theta)\n",
    "#         if i % 10 == 0: # just look at cost every ten loops for debugging\n",
    "#             print(cost)\n",
    "    return (theta, cost)\n",
    "\n",
    "g, cost = gradientDescent(X, y, theta, alpha, iters)  \n",
    "print(g, cost)\n",
    "\n",
    "## g : parameters ans\n",
    "## cost  : least cost"
   ]
  },
  {
   "cell_type": "code",
   "execution_count": 12,
   "metadata": {},
   "outputs": [
    {
     "data": {
      "text/plain": [
       "[<matplotlib.lines.Line2D at 0x7fe3e9b50f60>]"
      ]
     },
     "execution_count": 12,
     "metadata": {},
     "output_type": "execute_result"
    },
    {
     "data": {
      "image/png": "[encoded data removed]",
      "text/plain": [
       "<Figure size 432x288 with 1 Axes>"
      ]
     },
     "metadata": {},
     "output_type": "display_data"
    }
   ],
   "source": [
    "plt.scatter(my_data[:, 0].reshape(-1,1), y)\n",
    "axes = plt.gca()\n",
    "x_vals = np.array(axes.get_xlim()) \n",
    "y_vals = g[0][0] + g[0][1]* x_vals #the line equation\n",
    "plt.plot(x_vals, y_vals, '--')"
   ]
  },
  {
   "cell_type": "code",
   "execution_count": 15,
   "metadata": {},
   "outputs": [
    {
     "data": {
      "text/plain": [
       "34.2088676751875"
      ]
     },
     "execution_count": 15,
     "metadata": {},
     "output_type": "execute_result"
    }
   ],
   "source": [
    "def predict(x):\n",
    "    return g[0][0] + g[0][1]* x\n",
    "\n",
    "predict(6)"
   ]
  }
 ],
 "metadata": {
  "kernelspec": {
   "display_name": "Python 3",
   "language": "python",
   "name": "python3"
  },
  "language_info": {
   "codemirror_mode": {
    "name": "ipython",
    "version": 3
   },
   "file_extension": ".py",
   "mimetype": "text/x-python",
   "name": "python",
   "nbconvert_exporter": "python",
   "pygments_lexer": "ipython3",
   "version": "3.6.7"
  }
 },
 "nbformat": 4,
 "nbformat_minor": 2
}
