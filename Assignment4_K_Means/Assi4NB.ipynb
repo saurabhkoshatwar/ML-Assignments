{
 "cells": [
  {
   "cell_type": "code",
   "execution_count": 6,
   "metadata": {},
   "outputs": [
    {
     "name": "stdout",
     "output_type": "stream",
     "text": [
      "      X     Y\n",
      "0  0.10  0.60\n",
      "1  0.15  0.71\n",
      "2  0.08  0.90\n",
      "3  0.16  0.85\n",
      "4  0.20  0.30\n",
      "5  0.25  0.50\n",
      "6  0.24  0.10\n",
      "7  0.30  0.20\n"
     ]
    },
    {
     "data": {
      "image/png": "[encoded data removed]",
      "text/plain": [
       "<Figure size 432x288 with 1 Axes>"
      ]
     },
     "metadata": {},
     "output_type": "display_data"
    }
   ],
   "source": [
    "import pandas as pd\n",
    "import numpy as np\n",
    "import matplotlib.pyplot as plt\n",
    "\n",
    "dataset  = pd.read_csv(\"assi4_data.csv\")\n",
    "print(dataset)\n",
    "plt.scatter( dataset.iloc[:,0] ,dataset.iloc[:,1])\n",
    "plt.show()"
   ]
  },
  {
   "cell_type": "markdown",
   "metadata": {},
   "source": [
    "### Euclidean Distance\n",
    "\n",
    "$$ \n",
    "\\begin{aligned} d(\\mathbf{p}, \\mathbf{q})=\\sqrt{\\sum_{i=1}^{n}\\left(q_{i}-p_{i}\\right)^{2}} \\end{aligned}\n",
    " $$\n"
   ]
  },
  {
   "cell_type": "code",
   "execution_count": 7,
   "metadata": {},
   "outputs": [],
   "source": [
    "def euclideanDistance(instance1, instance2):\n",
    "    distance = 0\n",
    "    for x in range(len(instance1)):\n",
    "        distance += pow((instance1[x] - instance2[x]), 2)\n",
    "    return math.sqrt(distance)"
   ]
  },
  {
   "cell_type": "code",
   "execution_count": 21,
   "metadata": {},
   "outputs": [],
   "source": [
    "def kmeans(k,tolerance,iterations):\n",
    "    \n",
    "    #initialize the centroids, the first 'k' elements in the dataset will be our initial centroids\n",
    "    centroids = []\n",
    "    for i in range(k):\n",
    "       centroids.append(dataset.iloc[i])\n",
    "    print(centroids)\n",
    "    \n",
    "    for i in range(iterations):\n",
    "        classes = {}\n",
    "        for i in range(k):\n",
    "            classes[i] = []\n",
    "\n",
    "        #find the distance between the point and cluster; choose the nearest centroid\n",
    "        for features in data:\n",
    "            distances = [np.linalg.norm(features - self.centroids[centroid]) for centroid in self.centroids]\n",
    "            classification = distances.index(min(distances))\n",
    "            self.classes[classification].append(features)\n",
    "    \n",
    "    \n",
    "# kmeans(2,0.1,500)    "
   ]
  },
  {
   "cell_type": "code",
   "execution_count": null,
   "metadata": {},
   "outputs": [],
   "source": []
  }
 ],
 "metadata": {
  "kernelspec": {
   "display_name": "Python 3",
   "language": "python",
   "name": "python3"
  },
  "language_info": {
   "codemirror_mode": {
    "name": "ipython",
    "version": 3
   },
   "file_extension": ".py",
   "mimetype": "text/x-python",
   "name": "python",
   "nbconvert_exporter": "python",
   "pygments_lexer": "ipython3",
   "version": "3.6.7"
  }
 },
 "nbformat": 4,
 "nbformat_minor": 2
}
